{
 "cells": [
  {
   "cell_type": "code",
   "execution_count": null,
   "metadata": {},
   "outputs": [],
   "source": [
    "import pandas as pd\n",
    "import pickle\n",
    "\n",
    "from sklearn.preprocessing import MinMaxScaler, StandardScaler, RobustScaler, PolynomialFeatures\n",
    "from sklearn.model_selection import train_test_split\n",
    "from sklearn.linear_model import LinearRegression, Lasso\n",
    "from sklearn.pipeline import make_pipeline"
   ]
  },
  {
   "cell_type": "code",
   "execution_count": null,
   "metadata": {},
   "outputs": [],
   "source": [
    "df = pd.read_csv(\"kc_house_data.modelisation.csv\")"
   ]
  },
  {
   "cell_type": "code",
   "execution_count": null,
   "metadata": {},
   "outputs": [],
   "source": [
    "X = df.drop([\"id\", \"date\", \"prix\"], axis=1)\n",
    "y = df[\"prix\"]\n",
    "\n",
    "X_train, X_test, y_train, y_test = train_test_split(X, y, random_state=42)"
   ]
  },
  {
   "cell_type": "code",
   "execution_count": null,
   "metadata": {},
   "outputs": [],
   "source": [
    "df_user = df.loc[len(df)-1:].apply(lambda x: 0.0)\n",
    "df_user = df_user.drop([\"id\", \"date\", \"prix\"])\n",
    "df_user[\"m2_habitable\"] = 4500\n",
    "df_user[\"m2_parcelle\"] = 520\n",
    "df_user[\"m2_etage\"] = 290\n",
    "df_user[\"m2_cave\"] = 0\n",
    "df_user[\"salle_de_bain\"] = 2.50\n",
    "df_user[\"chambres\"] = 4\n",
    "df_user[\"etages\"] = 2.50\n",
    "df_user[\"condition\"] = 1\n",
    "df_user[\"vue_mer\"] = 1\n",
    "df_user[\"98040\"] = 1\n",
    "\n",
    "df_user[\"lat\"] = 47.5718\n",
    "df_user[\"lon\"] = -122.2300\n",
    "df_user[\"annee_construction\"] = 1950\n",
    "df_user[\"annee_renovation\"] = 1950\n",
    "df_user[\"note\"] = 3\n",
    "df_user[\"m2_habitable15\"] = 1840.0\n",
    "df_user[\"m2_parcelle15\"] = 7620.0"
   ]
  },
  {
   "cell_type": "code",
   "execution_count": null,
   "metadata": {},
   "outputs": [],
   "source": [
    "import folium as fl\n",
    "\n",
    "from streamlit_folium import st_folium\n",
    "\n",
    "###################################\n",
    "##### Map cliquable lon - lat #####\n",
    "###################################\n",
    "def get_pos(lat,lng):\n",
    "    return lat,lng\n",
    "\n",
    "m = fl.Map()\n",
    "\n",
    "map = st_folium(m, height=350, width=700)\n",
    "\n",
    "\n",
    "data = get_pos(map['last_clicked']['lat'],map['last_clicked']['lng'])\n",
    "\n",
    "st.write(data)"
   ]
  }
 ],
 "metadata": {
  "kernelspec": {
   "display_name": "Python 3.9.13 ('base')",
   "language": "python",
   "name": "python3"
  },
  "language_info": {
   "name": "python",
   "version": "3.9.13"
  },
  "orig_nbformat": 4,
  "vscode": {
   "interpreter": {
    "hash": "cfd8684c7f53546f7fdc85df00f20bbd1266ef94d3e3b65674cf698d02319b94"
   }
  }
 },
 "nbformat": 4,
 "nbformat_minor": 2
}
