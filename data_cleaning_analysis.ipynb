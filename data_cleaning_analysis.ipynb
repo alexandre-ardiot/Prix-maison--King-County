{
 "cells": [
  {
   "cell_type": "code",
   "execution_count": null,
   "metadata": {},
   "outputs": [],
   "source": [
    "import matplotlib.pyplot as plt\n",
    "import pandas as pd\n",
    "import seaborn as sns\n",
    "import random\n",
    "import streamlit as st\n",
    "import missingno as msno\n",
    "\n",
    "from sklearn.model_selection import train_test_split\n",
    "from sklearn.neighbors import KNeighborsClassifier"
   ]
  },
  {
   "cell_type": "code",
   "execution_count": null,
   "metadata": {},
   "outputs": [],
   "source": [
    "df = pd.read_csv(\"kc_house_data.cleaning.csv\")\n",
    "pd.options.display.max_columns = 40\n",
    "df.shape"
   ]
  },
  {
   "cell_type": "code",
   "execution_count": null,
   "metadata": {},
   "outputs": [],
   "source": [
    "#msno.matrix(df)\n",
    "df.head()"
   ]
  },
  {
   "cell_type": "code",
   "execution_count": null,
   "metadata": {},
   "outputs": [],
   "source": [
    "df.rename(columns={\n",
    "    \"price\" : \"prix\", \n",
    "    \"bedrooms\" : \"chambres\",\n",
    "    \"bathrooms\" : \"salle_de_bain\",\n",
    "    \"sqft_living\" : \"m2_habitable\",\n",
    "    \"sqft_lot\" : \"m2_parcelle\",\n",
    "    \"floors\" : \"etages\",\n",
    "    \"waterfront\" : \"vue_mer\",\n",
    "    \"view\" : \"vue\",\n",
    "    \"grade\" : \"note\",\n",
    "    \"sqft_above\" : \"m2_etage\",\n",
    "    \"sqft_basement\" : \"m2_cave\",\n",
    "    \"yr_built\" : \"annee_construction\",\n",
    "    \"yr_renovated\" : \"annee_renovation\",\n",
    "    \"zipcode\" : \"cp\",\n",
    "    \"long\" : \"lon\",\n",
    "    \"sqft_living15\" : \"m2_habitable15\",\n",
    "    \"sqft_lot15\" : \"m2_parcelle15\"\n",
    "},\n",
    "        inplace=True)\n",
    "df.head()"
   ]
  },
  {
   "cell_type": "code",
   "execution_count": null,
   "metadata": {},
   "outputs": [],
   "source": [
    "#df.to_csv(\"donnees_map.csv\")\n",
    "#df.to_csv(\"kc_house_data.preparation.csv\")"
   ]
  },
  {
   "cell_type": "code",
   "execution_count": null,
   "metadata": {},
   "outputs": [],
   "source": [
    "#df.drop(df.id)\n",
    "df.head()"
   ]
  },
  {
   "cell_type": "code",
   "execution_count": null,
   "metadata": {},
   "outputs": [],
   "source": [
    "df.describe()"
   ]
  },
  {
   "cell_type": "code",
   "execution_count": null,
   "metadata": {},
   "outputs": [],
   "source": [
    "#df.loc[:, df.isna().any()]"
   ]
  },
  {
   "cell_type": "code",
   "execution_count": null,
   "metadata": {},
   "outputs": [],
   "source": [
    "#df.loc[~(df[\"chambres\"] == 0).all(axis=1)]\n",
    "#df.loc[(df!=0).any(axis=1)]\n",
    "#df.drop([1, 2, 3], axis=0)\n",
    "#df.drop(df[df.chambres < 1].chambres, inplace = True)\n",
    "df.loc[df[\"chambres\"] >= 1]"
   ]
  },
  {
   "cell_type": "code",
   "execution_count": null,
   "metadata": {},
   "outputs": [],
   "source": [
    "df.shape"
   ]
  },
  {
   "cell_type": "code",
   "execution_count": null,
   "metadata": {},
   "outputs": [],
   "source": [
    "df[\"prix\"].hist()"
   ]
  },
  {
   "cell_type": "code",
   "execution_count": null,
   "metadata": {},
   "outputs": [],
   "source": [
    "df[\"prix\"].shape"
   ]
  },
  {
   "cell_type": "code",
   "execution_count": null,
   "metadata": {},
   "outputs": [],
   "source": [
    "df[\"m2_parcelle\"].shape"
   ]
  },
  {
   "cell_type": "code",
   "execution_count": null,
   "metadata": {},
   "outputs": [],
   "source": [
    "plt.scatter(df[\"prix\"], df[\"m2_parcelle\"], c=df[\"prix\"])\n",
    "plt.xlabel(\"Prix\")\n",
    "plt.ylabel(\"m2 parcelle\")\n",
    "plt.colorbar()"
   ]
  },
  {
   "cell_type": "code",
   "execution_count": null,
   "metadata": {},
   "outputs": [],
   "source": [
    "regression linéaire\n",
    "df.core\n",
    "train - valid - test\n",
    "66 - 34 / 2"
   ]
  }
 ],
 "metadata": {
  "kernelspec": {
   "display_name": "Python 3.9.13 ('base')",
   "language": "python",
   "name": "python3"
  },
  "language_info": {
   "codemirror_mode": {
    "name": "ipython",
    "version": 3
   },
   "file_extension": ".py",
   "mimetype": "text/x-python",
   "name": "python",
   "nbconvert_exporter": "python",
   "pygments_lexer": "ipython3",
   "version": "3.9.13"
  },
  "orig_nbformat": 4,
  "vscode": {
   "interpreter": {
    "hash": "cfd8684c7f53546f7fdc85df00f20bbd1266ef94d3e3b65674cf698d02319b94"
   }
  }
 },
 "nbformat": 4,
 "nbformat_minor": 2
}
