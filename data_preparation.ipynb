{
 "cells": [
  {
   "cell_type": "code",
   "execution_count": null,
   "metadata": {},
   "outputs": [],
   "source": [
    "import matplotlib.pyplot as plt\n",
    "import pandas as pd\n",
    "import seaborn as sns\n",
    "import numpy as np"
   ]
  },
  {
   "cell_type": "markdown",
   "metadata": {},
   "source": [
    "__Import des données dans le dataframe \"df\" et paramétrage des options__"
   ]
  },
  {
   "cell_type": "code",
   "execution_count": null,
   "metadata": {},
   "outputs": [],
   "source": [
    "df = pd.read_csv(\"kc_house_data.preparation.csv\")\n",
    "pd.options.display.max_columns = 100\n",
    "df.head()"
   ]
  },
  {
   "cell_type": "markdown",
   "metadata": {},
   "source": [
    "__Conversion des dates__"
   ]
  },
  {
   "cell_type": "code",
   "execution_count": null,
   "metadata": {},
   "outputs": [],
   "source": [
    "df[\"date\"] = pd.to_datetime(df[\"date\"])\n",
    "df.head()"
   ]
  },
  {
   "cell_type": "markdown",
   "metadata": {},
   "source": [
    "__Conversion des pied² vers m²__"
   ]
  },
  {
   "cell_type": "code",
   "execution_count": null,
   "metadata": {},
   "outputs": [],
   "source": [
    "df[\"m2_habitable\"] = round(df[\"m2_habitable\"].apply(lambda x: x * 0.09290304))\n",
    "df[\"m2_parcelle\"] = round(df[\"m2_parcelle\"].apply(lambda x: x * 0.09290304))\n",
    "df[\"m2_etage\"] = round(df[\"m2_etage\"].apply(lambda x: x * 0.09290304))\n",
    "df[\"m2_cave\"] = round(df[\"m2_cave\"].apply(lambda x: x * 0.09290304))\n",
    "df[\"m2_habitable15\"] = round(df[\"m2_habitable15\"].apply(lambda x: x * 0.09290304))\n",
    "df[\"m2_parcelle15\"] = round(df[\"m2_parcelle15\"].apply(lambda x: x * 0.09290304))\n",
    "df.head()"
   ]
  },
  {
   "cell_type": "code",
   "execution_count": null,
   "metadata": {},
   "outputs": [],
   "source": [
    "df.describe()"
   ]
  },
  {
   "cell_type": "markdown",
   "metadata": {},
   "source": [
    "__Passage des valeurs 0 de la colonne annee_renovation par la valeur de annee_construction__"
   ]
  },
  {
   "cell_type": "code",
   "execution_count": null,
   "metadata": {},
   "outputs": [],
   "source": [
    "df.loc[df[\"annee_renovation\"] == 0, \"annee_renovation\"] = df[\"annee_construction\"]\n",
    "df.head()"
   ]
  },
  {
   "cell_type": "markdown",
   "metadata": {},
   "source": [
    "__Graphique des corrélations entre les différents éléments__"
   ]
  },
  {
   "cell_type": "code",
   "execution_count": null,
   "metadata": {},
   "outputs": [],
   "source": [
    "#Recherche des corrélations via la méthode pearson\n",
    "pearson = df.corr(method='pearson')\n",
    "\n",
    "#Création de la heatmap\n",
    "sns.set(rc={'figure.figsize':(30,12)})\n",
    "mask = np.zeros_like(pearson)\n",
    "mask[np.triu_indices_from(mask)] = True\n",
    "with sns.axes_style(\"white\"):\n",
    "    ax = sns.heatmap(data=pearson, cmap=\"YlGnBu\", mask=mask, vmax=1, annot=True, square=True)"
   ]
  },
  {
   "cell_type": "markdown",
   "metadata": {},
   "source": [
    "__Création de colonnes pour chaque code postal différent et drop de l'ancienne colonne \"cp\"__"
   ]
  },
  {
   "cell_type": "code",
   "execution_count": null,
   "metadata": {},
   "outputs": [],
   "source": [
    "df = df.join(pd.get_dummies(df[\"cp\"]))\n",
    "df.drop(\"cp\", axis=1, inplace=True)\n",
    "df.head()"
   ]
  },
  {
   "cell_type": "markdown",
   "metadata": {},
   "source": [
    "__Graphique : Prix - M2 Parcelle__"
   ]
  },
  {
   "cell_type": "code",
   "execution_count": null,
   "metadata": {},
   "outputs": [],
   "source": [
    "plt.scatter(df[\"prix\"], df[\"m2_parcelle\"], c=df[\"prix\"])\n",
    "plt.xlabel(\"Prix\")\n",
    "plt.ylabel(\"m2 parcelle\")\n",
    "plt.colorbar()"
   ]
  },
  {
   "cell_type": "markdown",
   "metadata": {},
   "source": [
    "__Graphique : Prix - M2 Habitable__"
   ]
  },
  {
   "cell_type": "code",
   "execution_count": null,
   "metadata": {},
   "outputs": [],
   "source": [
    "sns.scatterplot(data = df , x= \"prix\", y = \"m2_habitable\")"
   ]
  },
  {
   "cell_type": "markdown",
   "metadata": {},
   "source": [
    "__Graphique : Prix - Année de construction__"
   ]
  },
  {
   "cell_type": "code",
   "execution_count": null,
   "metadata": {},
   "outputs": [],
   "source": [
    "sns.scatterplot(data=df , x=\"annee_construction\", y=\"prix\")"
   ]
  },
  {
   "cell_type": "markdown",
   "metadata": {},
   "source": [
    "__Graphique : Prix - Année de rénovation__"
   ]
  },
  {
   "cell_type": "code",
   "execution_count": null,
   "metadata": {},
   "outputs": [],
   "source": [
    "sns.lmplot(data=df[df[\"annee_renovation\"] != df[\"annee_construction\"]], x=\"annee_renovation\", y=\"prix\")"
   ]
  },
  {
   "cell_type": "markdown",
   "metadata": {},
   "source": [
    "__Graphique de distribution du prix__"
   ]
  },
  {
   "cell_type": "code",
   "execution_count": null,
   "metadata": {},
   "outputs": [],
   "source": [
    "graph = sns.distplot(df[\"prix\"], bins=200, fit=norm)\n",
    "graph.set_title(\"Distribution du prix\")\n",
    "graph.set(xlim=(50000, 1800000))"
   ]
  },
  {
   "cell_type": "markdown",
   "metadata": {},
   "source": [
    "__Distribution du prix des maisons par emplacement géographique__"
   ]
  },
  {
   "cell_type": "code",
   "execution_count": null,
   "metadata": {},
   "outputs": [],
   "source": [
    "plt.figure(figsize= (15,7))\n",
    "plt.title(\"Prix des maisons par latitude et longitude\")\n",
    "sns.scatterplot(data=df, x=\"lon\", y=\"lat\", hue=\"prix\", palette=\"RdYlGn\")\n",
    "plt.show()"
   ]
  },
  {
   "cell_type": "markdown",
   "metadata": {},
   "source": [
    "__Distribution du prix des maisons en dessous du quartile de 75% par emplacement géographique__"
   ]
  },
  {
   "cell_type": "code",
   "execution_count": null,
   "metadata": {},
   "outputs": [],
   "source": [
    "df_prix75 = df[df[\"prix\"]<6450000]\n",
    "\n",
    "plt.figure(figsize= (15,7))\n",
    "plt.title(\"Prix des maisons en dessous du quartile de 75%\")\n",
    "sns.scatterplot(data=df_prix75, x=\"lon\", y=\"lat\", hue=\"prix\", palette=\"RdYlGn\")\n",
    "plt.show()"
   ]
  },
  {
   "cell_type": "markdown",
   "metadata": {},
   "source": [
    "__Impact de la vue sur la mer sur le prix__"
   ]
  },
  {
   "cell_type": "code",
   "execution_count": null,
   "metadata": {},
   "outputs": [],
   "source": [
    "sns.violinplot(data=df , x=\"vue_mer\", y=\"prix\")"
   ]
  },
  {
   "cell_type": "markdown",
   "metadata": {},
   "source": [
    "__Propension du nombre d'étages suivant les années de construction__"
   ]
  },
  {
   "cell_type": "code",
   "execution_count": null,
   "metadata": {},
   "outputs": [],
   "source": [
    "graph2 = sns.jointplot(data=df, x=df[\"annee_construction\"], y=df[\"etages\"], kind=\"kde\", height=8)"
   ]
  },
  {
   "cell_type": "markdown",
   "metadata": {},
   "source": [
    "__Propension du nombre de chambres suivant les années de construction__"
   ]
  },
  {
   "cell_type": "code",
   "execution_count": null,
   "metadata": {},
   "outputs": [],
   "source": [
    "graph3 = sns.jointplot(data=df, x=df[\"annee_construction\"], y=df[\"chambres\"], kind=\"kde\", height=8)"
   ]
  },
  {
   "cell_type": "markdown",
   "metadata": {},
   "source": [
    "__Propension du nombre du nombre de salle de bain suivant les années de construction__"
   ]
  },
  {
   "cell_type": "code",
   "execution_count": null,
   "metadata": {},
   "outputs": [],
   "source": [
    "graph4 = sns.jointplot(data=df, x=df[\"annee_construction\"], y=df[\"salle_de_bain\"], kind=\"kde\", height=8)"
   ]
  },
  {
   "cell_type": "markdown",
   "metadata": {},
   "source": [
    "__Export csv pour la modélisation__"
   ]
  },
  {
   "cell_type": "code",
   "execution_count": null,
   "metadata": {},
   "outputs": [],
   "source": [
    "#df.to_csv(\"kc_house_data.modelisation.csv\", index=False)"
   ]
  }
 ],
 "metadata": {
  "kernelspec": {
   "display_name": "Python 3.9.13 ('base')",
   "language": "python",
   "name": "python3"
  },
  "language_info": {
   "codemirror_mode": {
    "name": "ipython",
    "version": 3
   },
   "file_extension": ".py",
   "mimetype": "text/x-python",
   "name": "python",
   "nbconvert_exporter": "python",
   "pygments_lexer": "ipython3",
   "version": "3.9.13"
  },
  "orig_nbformat": 4,
  "vscode": {
   "interpreter": {
    "hash": "cfd8684c7f53546f7fdc85df00f20bbd1266ef94d3e3b65674cf698d02319b94"
   }
  }
 },
 "nbformat": 4,
 "nbformat_minor": 2
}
